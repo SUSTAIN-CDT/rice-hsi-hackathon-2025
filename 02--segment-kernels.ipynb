{
 "cells": [
  {
   "cell_type": "code",
   "execution_count": null,
   "metadata": {},
   "outputs": [],
   "source": [
    "%reload_ext autoreload\n",
    "%autoreload 2"
   ]
  },
  {
   "cell_type": "code",
   "execution_count": null,
   "metadata": {},
   "outputs": [],
   "source": [
    "%matplotlib inline\n",
    "import matplotlib.pyplot as plt\n",
    "import pandas as pd"
   ]
  },
  {
   "cell_type": "code",
   "execution_count": null,
   "metadata": {},
   "outputs": [],
   "source": [
    "from helpers import *"
   ]
  },
  {
   "cell_type": "code",
   "execution_count": null,
   "metadata": {},
   "outputs": [],
   "source": [
    "df = HSIDataSetDataFrame(pd.read_csv(DATA_DIR / \"index.csv\"))"
   ]
  },
  {
   "cell_type": "code",
   "execution_count": null,
   "metadata": {},
   "outputs": [],
   "source": [
    "df.index"
   ]
  },
  {
   "cell_type": "code",
   "execution_count": null,
   "metadata": {},
   "outputs": [],
   "source": [
    "img_num = 13\n",
    "plt.imshow(df.images[img_num].hsi_calibrated[:, :, 110])"
   ]
  },
  {
   "cell_type": "code",
   "execution_count": null,
   "metadata": {},
   "outputs": [],
   "source": []
  },
  {
   "cell_type": "code",
   "execution_count": null,
   "metadata": {},
   "outputs": [],
   "source": [
    "from skimage import filters, morphology, measure, color\n",
    "\n",
    "for i in range(49, 50):\n",
    "    img_num = i\n",
    "    threshold = 0.08\n",
    "    min_area = 300\n",
    "    image = df.images[img_num].hsi_calibrated[:, :, 110]\n",
    "    gray_image = df.images[img_num].hsi_calibrated[:, :, 110]\n",
    "\n",
    "    binary_mask = image[:580] > threshold\n",
    "    dialated = morphology.dilation(binary_mask, morphology.disk(3))\n",
    "    eroded = morphology.erosion(dialated, morphology.disk(3))\n",
    "\n",
    "    # Perform morphological closing to join nearby regions\n",
    "    closed = morphology.closing(\n",
    "        eroded, morphology.disk(3)\n",
    "    )  # Adjust disk size as needed\n",
    "\n",
    "    # Remove small objects (regions with area < 100 pixels)\n",
    "    filtered = morphology.remove_small_objects(closed, min_size=min_area)\n",
    "\n",
    "    # use regioprops to get the area of each region\n",
    "    regions = measure.regionprops(measure.label(filtered))\n",
    "    areas = [region.area for region in regions]\n",
    "    aspect_ratios = [\n",
    "        region.major_axis_length / region.minor_axis_length for region in regions\n",
    "    ]\n",
    "\n",
    "    # Label connected components\n",
    "    labeled_regions = measure.label(filtered)\n",
    "\n",
    "    mask = np.zeros_like(labeled_regions, dtype=bool)\n",
    "    # Loop through each region and create a mask for regions with aspect ratio <= 5\n",
    "    for region in regions:\n",
    "        aspect_ratio = region.major_axis_length / region.minor_axis_length\n",
    "        if aspect_ratio > 5:  # Remove regions with aspect ratio > 5\n",
    "            labeled_regions[labeled_regions == region.label] = 0\n",
    "\n",
    "    # Assign random colours to each region\n",
    "    colored_regions = color.label2rgb(labeled_regions, kind=\"overlay\")\n",
    "\n",
    "    # Display results\n",
    "    # fig, ax = plt.subplots(1, 3, figsize=(15, 5))\n",
    "    # ax[0].imshow(image, cmap=\"gray\")\n",
    "    # ax[0].set_title(f\"Fixed Threshold ({threshold})\")\n",
    "    # ax[0].axis(\"off\")\n",
    "\n",
    "    # ax[1].imshow(filtered, cmap=\"gray\")\n",
    "    # ax[1].set_title(\"After Removing Small Regions (<100 px)\")\n",
    "    # ax[1].axis(\"off\")\n",
    "\n",
    "    # ax[2].imshow(colored_regions)\n",
    "    # ax[2].set_title(\"Segmented Regions with Unique Colours\")\n",
    "    # ax[2].axis(\"off\")\n",
    "    # np.unique(labeled_regions).shape[0]\n",
    "    if np.unique(labeled_regions).shape[0] != 49:\n",
    "        print(i, np.unique(labeled_regions).shape[0])\n",
    "    # plt.show()"
   ]
  },
  {
   "cell_type": "code",
   "execution_count": null,
   "metadata": {},
   "outputs": [],
   "source": [
    "def segment_image(image_num, threshold=0.08, min_area=300, plot=False):\n",
    "    image = df.images[img_num].hsi_calibrated[:, :, 110]\n",
    "    gray_image = df.images[img_num].hsi_calibrated[:, :, 110]\n",
    "\n",
    "    binary_mask = image[:580] > threshold\n",
    "    dialated = morphology.dilation(binary_mask, morphology.disk(3))\n",
    "    eroded = morphology.erosion(dialated, morphology.disk(3))\n",
    "\n",
    "    # Perform morphological closing to join nearby regions\n",
    "    closed = morphology.closing(\n",
    "        eroded, morphology.disk(3)\n",
    "    )  # Adjust disk size as needed\n",
    "\n",
    "    # Remove small objects (regions with area < 100 pixels)\n",
    "    filtered = morphology.remove_small_objects(closed, min_size=min_area)\n",
    "\n",
    "    # use regioprops to get the area of each region\n",
    "    regions = measure.regionprops(measure.label(filtered))\n",
    "    areas = [region.area for region in regions]\n",
    "    aspect_ratios = [\n",
    "        region.major_axis_length / region.minor_axis_length for region in regions\n",
    "    ]\n",
    "\n",
    "    # Label connected components\n",
    "    labeled_regions = measure.label(filtered)\n",
    "\n",
    "    mask = np.zeros_like(labeled_regions, dtype=bool)\n",
    "    # Loop through each region and create a mask for regions with aspect ratio <= 5\n",
    "    for region in regions:\n",
    "        aspect_ratio = region.major_axis_length / region.minor_axis_length\n",
    "        if aspect_ratio > 5:  # Remove regions with aspect ratio > 5\n",
    "            labeled_regions[labeled_regions == region.label] = 0\n",
    "\n",
    "    # Assign random colours to each region\n",
    "    colored_regions = color.label2rgb(labeled_regions, bg_label=0, kind=\"overlay\")\n",
    "\n",
    "    # Display results\n",
    "    if plot:\n",
    "        fig, ax = plt.subplots(1, 3, figsize=(15, 5))\n",
    "        ax[0].imshow(image, cmap=\"gray\")\n",
    "        ax[0].set_title(f\"Fixed Threshold ({threshold})\")\n",
    "        ax[0].axis(\"off\")\n",
    "\n",
    "        ax[1].imshow(filtered, cmap=\"gray\")\n",
    "        ax[1].set_title(\"After Removing Small Regions (<100 px)\")\n",
    "        ax[1].axis(\"off\")\n",
    "\n",
    "        ax[2].imshow(colored_regions)\n",
    "\n",
    "        for region in regions:\n",
    "            ax[2].text(\n",
    "                region.centroid[1], region.centroid[0], region.label, color=\"red\"\n",
    "            )\n",
    "\n",
    "        ax[2].set_title(\"Segmented Regions with Unique Colours\")\n",
    "        ax[2].axis(\"off\")\n",
    "        plt.show()\n",
    "    if np.unique(labeled_regions).shape[0] != 49:\n",
    "        print(i, np.unique(labeled_regions).shape[0])\n",
    "\n",
    "    return regions, labeled_regions\n",
    "\n",
    "\n",
    "regions, labeled_regions = segment_image(i, threshold=0.1, plot=True)"
   ]
  },
  {
   "cell_type": "code",
   "execution_count": null,
   "metadata": {},
   "outputs": [],
   "source": [
    "plt.imshow(labeled_regions == 4)\n"
   ]
  },
  {
   "cell_type": "code",
   "execution_count": null,
   "metadata": {},
   "outputs": [],
   "source": [
    "from scipy.ndimage import center_of_mass\n",
    "\n",
    "# Get unique region labels (excluding background 0)\n",
    "region_labels = np.unique(labeled_regions)\n",
    "region_labels = region_labels[region_labels > 0]  # Exclude background (0)\n",
    "\n",
    "# Compute centroids of each region\n",
    "centroids = np.array(\n",
    "    center_of_mass(labeled_regions, labels=labeled_regions, index=region_labels)\n",
    ")\n",
    "\n",
    "# Sort by Y first (top to bottom), then by X (left to right)\n",
    "sorted_indices = np.lexsort((centroids[:, 1], centroids[:, 0]))  # Sort by (Y, X)\n",
    "new_labels = {old: new + 1 for new, old in enumerate(region_labels[sorted_indices])}\n",
    "\n",
    "# Create new labeled image\n",
    "renumbered_regions = np.copy(labeled_regions)\n",
    "for old_label, new_label in new_labels.items():\n",
    "    renumbered_regions[labeled_regions == old_label] = new_label\n",
    "\n",
    "# renumbered_regions = renumbered_regions[renumbered_regions > 0]  # Remove background (0)"
   ]
  },
  {
   "cell_type": "code",
   "execution_count": null,
   "metadata": {},
   "outputs": [],
   "source": [
    "np.unique(renumbered_regions)"
   ]
  },
  {
   "cell_type": "code",
   "execution_count": null,
   "metadata": {},
   "outputs": [],
   "source": [
    "import numpy as np\n",
    "from scipy.ndimage import center_of_mass\n",
    "\n",
    "\n",
    "def sort_regions_grid(labeled_regions, y_threshold=5):\n",
    "    region_labels = np.unique(labeled_regions)\n",
    "    region_labels = region_labels[region_labels > 0]  # Exclude background (0)\n",
    "\n",
    "    # Compute centroids\n",
    "    centroids = np.array(\n",
    "        center_of_mass(labeled_regions, labels=labeled_regions, index=region_labels)\n",
    "    )\n",
    "\n",
    "    # Sort centroids by Y-coordinates\n",
    "    sorted_y_indices = np.argsort(centroids[:, 0])\n",
    "    centroids = centroids[sorted_y_indices]\n",
    "    region_labels = region_labels[sorted_y_indices]\n",
    "\n",
    "    # Cluster regions into rows based on Y proximity\n",
    "    rows = []\n",
    "    current_row = [region_labels[0]]\n",
    "\n",
    "    for i in range(1, len(region_labels)):\n",
    "        if centroids[i, 0] - centroids[i - 1, 0] > y_threshold:\n",
    "            rows.append(current_row)\n",
    "            current_row = []\n",
    "        current_row.append(region_labels[i])\n",
    "\n",
    "    rows.append(current_row)  # Append last row\n",
    "\n",
    "    # Sort each row by X-coordinates\n",
    "    sorted_labels = []\n",
    "    for row in rows:\n",
    "        row_centroids = centroids[np.isin(region_labels, row)]\n",
    "        sorted_x_indices = np.argsort(row_centroids[:, 1])\n",
    "        sorted_labels.extend(np.array(row)[sorted_x_indices])\n",
    "\n",
    "    # Renumber labels\n",
    "    new_labels = {old: new + 1 for new, old in enumerate(sorted_labels)}\n",
    "    renumbered_regions = np.copy(labeled_regions)\n",
    "    for old_label, new_label in new_labels.items():\n",
    "        renumbered_regions[labeled_regions == old_label] = new_label\n",
    "\n",
    "    return renumbered_regions\n",
    "\n",
    "\n",
    "# Usage\n",
    "renumbered_regions = sort_regions_grid(labeled_regions, y_threshold=25)"
   ]
  },
  {
   "cell_type": "code",
   "execution_count": null,
   "metadata": {},
   "outputs": [],
   "source": [
    "plt.imshow(renumbered_regions == 0, cmap=\"turbo\")\n",
    "for i in range(1, 49):\n",
    "    region = renumbered_regions == i\n",
    "    # compute the center of mass\n",
    "    center = np.array(center_of_mass(region))\n",
    "    # print(f\"Region {i}: {center}\")\n",
    "    # plt.imshow(renumbered_regions == i)\n",
    "    # plot centre\n",
    "    # plt.scatter(center[1], center[0], color=\"red\", s=100, marker=\"x\")\n",
    "    plt.text(\n",
    "        center[1],\n",
    "        center[0],\n",
    "        str(i),\n",
    "        color=\"white\",\n",
    "        fontsize=14,\n",
    "        fontdict={\"weight\": \"bold\"},\n",
    "        ha=\"center\",\n",
    "        va=\"center\",\n",
    "    )\n",
    "plt.show()"
   ]
  },
  {
   "cell_type": "code",
   "execution_count": null,
   "metadata": {},
   "outputs": [],
   "source": [
    "for i in range(10, 11):\n",
    "    segment_image(i, threshold=0.1, plot=True)"
   ]
  },
  {
   "cell_type": "code",
   "execution_count": null,
   "metadata": {},
   "outputs": [],
   "source": [
    "regions = segment_image(i, threshold=0.1, plot=True)"
   ]
  },
  {
   "cell_type": "code",
   "execution_count": null,
   "metadata": {},
   "outputs": [],
   "source": [
    "def extract_masks(labeled_regions):\n",
    "    region_labels = np.unique(labeled_regions)\n",
    "    region_labels = region_labels[region_labels > 0]  # Exclude background (0)\n",
    "\n",
    "    masks = {\n",
    "        label: (labeled_regions == label).astype(np.uint8) for label in region_labels\n",
    "    }\n",
    "    return masks  # Dictionary {label: mask}\n",
    "\n",
    "\n",
    "masks = extract_masks(renumbered_regions)"
   ]
  },
  {
   "cell_type": "code",
   "execution_count": null,
   "metadata": {},
   "outputs": [],
   "source": [
    "masks[1]"
   ]
  },
  {
   "cell_type": "code",
   "execution_count": null,
   "metadata": {},
   "outputs": [],
   "source": [
    "# plt.imshow(df.images[img_num].hsi_calibrated[masks[1]])a\n"
   ]
  },
  {
   "cell_type": "code",
   "execution_count": null,
   "metadata": {},
   "outputs": [],
   "source": [
    "masks[1].shape\n",
    "# plt.imshow(masks[1], cmap=\"gray\")"
   ]
  },
  {
   "cell_type": "code",
   "execution_count": null,
   "metadata": {},
   "outputs": [],
   "source": [
    "df.images[img_num].hsi_calibrated.shape"
   ]
  },
  {
   "cell_type": "code",
   "execution_count": null,
   "metadata": {},
   "outputs": [],
   "source": [
    "img = df.images[img_num].hsi_calibrated[:580]"
   ]
  },
  {
   "cell_type": "code",
   "execution_count": null,
   "metadata": {},
   "outputs": [],
   "source": [
    "img.shape"
   ]
  },
  {
   "cell_type": "code",
   "execution_count": null,
   "metadata": {},
   "outputs": [],
   "source": [
    "masks[1]"
   ]
  },
  {
   "cell_type": "code",
   "execution_count": null,
   "metadata": {},
   "outputs": [],
   "source": [
    "res = img * masks[1][:, :, np.newaxis]\n",
    "plt.imshow(res[:, :, 10], cmap=\"gray\")\n",
    "res.shape"
   ]
  },
  {
   "cell_type": "code",
   "execution_count": null,
   "metadata": {},
   "outputs": [],
   "source": [
    "plt.imshow(df.images[img_num].hsi_calibrated[:, :, 100])"
   ]
  },
  {
   "cell_type": "code",
   "execution_count": null,
   "metadata": {},
   "outputs": [],
   "source": []
  }
 ],
 "metadata": {
  "language_info": {
   "name": "python",
   "pygments_lexer": "ipython3"
  }
 },
 "nbformat": 4,
 "nbformat_minor": 2
}
